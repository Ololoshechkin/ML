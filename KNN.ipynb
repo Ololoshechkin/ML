{
 "cells": [
  {
   "cell_type": "code",
   "execution_count": 1,
   "metadata": {},
   "outputs": [],
   "source": [
    "import pandas as pd\n",
    "import numpy as np\n",
    "from sklearn import preprocessing\n",
    "import operator\n",
    "import math\n",
    "from scipy.spatial import distance\n",
    "from matplotlib import pyplot"
   ]
  },
  {
   "cell_type": "code",
   "execution_count": 2,
   "metadata": {},
   "outputs": [],
   "source": [
    "def withSupport(x, expr):\n",
    "    if abs(x) <= 1.0:\n",
    "        return expr\n",
    "    else:\n",
    "        return 0.0 "
   ]
  },
  {
   "cell_type": "code",
   "execution_count": 3,
   "metadata": {},
   "outputs": [],
   "source": [
    "def uniform(x):\n",
    "    return withSupport(x, 0.5)"
   ]
  },
  {
   "cell_type": "code",
   "execution_count": 4,
   "metadata": {},
   "outputs": [],
   "source": [
    "def triangular(x):\n",
    "    return withSupport(x, 1 - abs(x))"
   ]
  },
  {
   "cell_type": "code",
   "execution_count": 5,
   "metadata": {},
   "outputs": [],
   "source": [
    "def epanechnikov(x):\n",
    "    return withSupport(x, 0.75 * ((1 - x ** 2) ** 2))"
   ]
  },
  {
   "cell_type": "code",
   "execution_count": 6,
   "metadata": {},
   "outputs": [],
   "source": [
    "def quartic(x):\n",
    "    return withSupport(x, 15.0/16.0 * (1 - x ** 2))"
   ]
  },
  {
   "cell_type": "code",
   "execution_count": 7,
   "metadata": {},
   "outputs": [],
   "source": [
    "def triweight(x):\n",
    "    return withSupport(x, 35.0/32.0 * ((1 - x ** 2) ** 3))"
   ]
  },
  {
   "cell_type": "code",
   "execution_count": 8,
   "metadata": {},
   "outputs": [],
   "source": [
    "def tricube(x):\n",
    "    return withSupport(x, 70.0/81.0 * ((1 - abs(x) ** 3) ** 3))"
   ]
  },
  {
   "cell_type": "code",
   "execution_count": 9,
   "metadata": {},
   "outputs": [],
   "source": [
    "def gaussian(x):\n",
    "    return 1 / math.sqrt(2.0 * math.pi) * math.exp(-0.5 * (x ** 2))"
   ]
  },
  {
   "cell_type": "code",
   "execution_count": 10,
   "metadata": {},
   "outputs": [],
   "source": [
    "def cosine(x):\n",
    "    return withSupport(x, math.pi / 4.0 * math.cos(math.pi / 2.0 * x))"
   ]
  },
  {
   "cell_type": "code",
   "execution_count": 11,
   "metadata": {},
   "outputs": [],
   "source": [
    "def logistic(x):\n",
    "    if abs(x) <= 12.0:\n",
    "        return 1 / (math.exp(x) + 2.0 + math.exp(-x))\n",
    "    else:\n",
    "        return 0.0"
   ]
  },
  {
   "cell_type": "code",
   "execution_count": 12,
   "metadata": {},
   "outputs": [],
   "source": [
    "def sigmoid(x):\n",
    "    if abs(x) <= 12.0:\n",
    "        return 2.0 / math.pi * 1 / (math.exp(x) + math.exp(-x))\n",
    "    else:\n",
    "        return 0.0"
   ]
  },
  {
   "cell_type": "code",
   "execution_count": 13,
   "metadata": {},
   "outputs": [],
   "source": [
    "def silverman(x):\n",
    "    return 0.5 * math.exp(-x / math.sqrt(2)) * math.sin(x / math.sqrt(2.0) + math.pi / 4.0)"
   ]
  },
  {
   "cell_type": "code",
   "execution_count": 14,
   "metadata": {},
   "outputs": [],
   "source": [
    "allKernels = {\n",
    "    \"logistic\" : logistic, \n",
    "    \"uniform\" : uniform, \n",
    "    \"triangular\" : triangular,\n",
    "    \"epanechnikov\" : epanechnikov,\n",
    "    \"quartic\" : quartic, \n",
    "    \"triweight\" : triweight, \n",
    "    \"tricube\" : tricube, \n",
    "    \"gaussian\" : gaussian, \n",
    "    \"cosine\" : cosine, \n",
    "    \"sigmoid\" : sigmoid, \n",
    "    \"silverman\" : silverman,\n",
    "    \"id\" : id\n",
    "}"
   ]
  },
  {
   "cell_type": "code",
   "execution_count": 15,
   "metadata": {},
   "outputs": [],
   "source": [
    "allDistances = {\n",
    "    \"manhattan\" : distance.cityblock,\n",
    "    \"euclidian\" : distance.euclidean,\n",
    "}"
   ]
  },
  {
   "cell_type": "code",
   "execution_count": 48,
   "metadata": {},
   "outputs": [],
   "source": [
    "def readNormalizedData(file):\n",
    "    df = pd.read_csv(file, sep=\",\").drop(columns=\"LRS-name\")\n",
    "    classes = df[\"LRS-class\"].to_numpy()\n",
    "    features = df.drop(columns=\"LRS-class\").to_numpy()\n",
    "    objects = []\n",
    "    for i in range(len(classes)):\n",
    "        objects.append({'class' : classes[i], 'vector': features[i]})\n",
    "    for j in range(len(objects[0]['vector'])):\n",
    "        s = 0.0\n",
    "        for i in range(len(objects)):\n",
    "            s += objects[i]['vector'][j]\n",
    "        for i in range(len(objects)):\n",
    "            objects[i]['vector'][j] /= s\n",
    "    return objects"
   ]
  },
  {
   "cell_type": "code",
   "execution_count": 49,
   "metadata": {},
   "outputs": [],
   "source": [
    "def splitData(objects, l):\n",
    "    for obj in objects:\n",
    "        pyplot.scatter([obj['vector'][0]], [obj['vector'][1]], c = obj['class'])\n",
    "    pyplot.show()\n",
    "    \n",
    "    n = max(objects, key=lambda obj: obj['class'])['class'] + 1\n",
    "    \n",
    "    cnt = [0 for i in range(n)]\n",
    "    for obj in objects:\n",
    "        cnt[obj['class']] += 1\n",
    "    pyplot.plot(range(n), cnt)\n",
    "    pyplot.show()\n",
    "    \n",
    "    train = []\n",
    "    test = []\n",
    "    for i in range(len(objects)):\n",
    "        if i % l != l - 1:\n",
    "            train.append(objects[i])\n",
    "        else:\n",
    "            test.append(objects[i])\n",
    "    return train, test, n"
   ]
  },
  {
   "cell_type": "code",
   "execution_count": 50,
   "metadata": {},
   "outputs": [],
   "source": [
    "def getData(file):\n",
    "    return splitData(readNormalizedData(file), 5)"
   ]
  },
  {
   "cell_type": "code",
   "execution_count": 51,
   "metadata": {},
   "outputs": [
    {
     "data": {
      "image/png": "[encoded data removed]",
      "text/plain": [
       "<matplotlib.figure.Figure at 0x1144f4860>"
      ]
     },
     "metadata": {
      "needs_background": "light"
     },
     "output_type": "display_data"
    },
    {
     "data": {
      "image/png": "[encoded data removed]",
      "text/plain": [
       "<matplotlib.figure.Figure at 0x114c78278>"
      ]
     },
     "metadata": {
      "needs_background": "light"
     },
     "output_type": "display_data"
    },
    {
     "name": "stdout",
     "output_type": "stream",
     "text": [
      "train size: 425 \n",
      "test size: 106 \n",
      "classes: 97 \n",
      "features: 101\n"
     ]
    }
   ],
   "source": [
    "train, test, n = getData('kNN/spectrometer.csv')\n",
    "print(\"train size:\", len(train), \"\\ntest size:\", len(test), \"\\nclasses:\", n,\"\\nfeatures:\",  len(train[0]['vector']))"
   ]
  },
  {
   "cell_type": "code",
   "execution_count": 52,
   "metadata": {},
   "outputs": [],
   "source": [
    "def kNN(newVector, n, objects, h, kernel, dist):\n",
    "    votes = [0.0 for i in range(n)]\n",
    "    for obj in objects:\n",
    "        c = obj['class']\n",
    "        v = obj['vector']\n",
    "        votes[c] += kernel(dist(newVector, v) / h)\n",
    "    return np.argmax(votes)"
   ]
  },
  {
   "cell_type": "code",
   "execution_count": 53,
   "metadata": {},
   "outputs": [],
   "source": [
    "def varKNN(newVector, n, objects, k, kernel, dist):\n",
    "    votes = [0.0 for i in range(n)]\n",
    "    objects2 = sorted(objects, key = lambda obj: dist(newVector, obj['vector']))\n",
    "    distK = dist(newVector, objects2[int(k)]['vector'])\n",
    "    for obj in objects:\n",
    "        c = obj['class']\n",
    "        v = obj['vector']\n",
    "        votes[c] += kernel(dist(newVector, v) / distK)\n",
    "    return np.argmax(votes)"
   ]
  },
  {
   "cell_type": "code",
   "execution_count": 54,
   "metadata": {},
   "outputs": [],
   "source": [
    "def calcF(precision, recall):\n",
    "    if precision != 0.0 or recall != 0.0:\n",
    "        return 2.0 * precision * recall / (precision + recall)\n",
    "    else:\n",
    "        return 0.0\n",
    "\n",
    "def fMeasure(cnt, n):\n",
    "    selectedAndRelevant = [cnt[c][c] for c in range(n)]\n",
    "    selected =  [sum([cnt[i][c] for i in range(n)]) for c in range(n)]\n",
    "    relevant =  [sum(cnt[c]) for c in range(n)]\n",
    "    precision =  [(selectedAndRelevant[c] / selected[c] if selected[c] != 0 else 0.0) for c in range(n)]\n",
    "    recall =  [(selectedAndRelevant[c] / relevant[c] if relevant[c] != 0 else 0.0) for c in range(n)]\n",
    "    f = [calcF(precision[c], recall[c]) for c in range(n)]\n",
    " \n",
    "    total = sum([sum(row) for row in cnt])\n",
    "    weightedF = sum([f[c] * relevant[c] for c in range(n)]) / total\n",
    "    weightedPrecision = sum([precision[c] * relevant[c] for c in range(n)]) / total\n",
    "    weightedRecall = sum([recall[c] * relevant[c] for c in range(n)]) / total\n",
    "\n",
    "    return calcF(weightedPrecision, weightedRecall)"
   ]
  },
  {
   "cell_type": "code",
   "execution_count": 55,
   "metadata": {},
   "outputs": [],
   "source": [
    "def testAlgo(test, n, classifier):\n",
    "    cnt = [[0.0 for i in range(n)] for j in range(n)]\n",
    "    for t in test:\n",
    "        c = classifier(t['vector'])\n",
    "        cnt[t['class']][c] += 1.0\n",
    "    return fMeasure(cnt, n)"
   ]
  },
  {
   "cell_type": "code",
   "execution_count": 56,
   "metadata": {},
   "outputs": [
    {
     "name": "stdout",
     "output_type": "stream",
     "text": [
      "0.006064690026954178\n"
     ]
    }
   ],
   "source": [
    "classifier = lambda v: kNN(v, n, train, 10.0, uniform, distance.cityblock)\n",
    "f = testAlgo(test, n, classifier)\n",
    "print(f)"
   ]
  },
  {
   "cell_type": "code",
   "execution_count": 57,
   "metadata": {},
   "outputs": [],
   "source": [
    "def gridSearch(f, l, r, eps):\n",
    "    if abs(r - l) < eps:\n",
    "        return [], l, -1e100\n",
    "    res = []\n",
    "    bestX, best = l, -1e100\n",
    "    for x in [l + i / 10 * (r - l) for i in range(11)]:\n",
    "        y = f(x)\n",
    "        res.append({'x': x, 'y' : y})\n",
    "        if y > best:\n",
    "            bestX = x\n",
    "            best = y\n",
    "    res2, newBestX, newBest = gridSearch(f, max(l, bestX - (r - l) / 10), min(r, bestX + (r - l) / 10), eps)\n",
    "    if newBest > best:\n",
    "        best = newBest\n",
    "        bestX = newBestX\n",
    "    return res + res2, bestX, best"
   ]
  },
  {
   "cell_type": "code",
   "execution_count": null,
   "metadata": {},
   "outputs": [
    {
     "name": "stdout",
     "output_type": "stream",
     "text": [
      "manhattan uniform h =  0.029900000000000003 f =  0.32267621418883213 \n",
      "\n"
     ]
    },
    {
     "data": {
      "image/png": "[encoded data removed]",
      "text/plain": [
       "<matplotlib.figure.Figure at 0x11560eb00>"
      ]
     },
     "metadata": {
      "needs_background": "light"
     },
     "output_type": "display_data"
    },
    {
     "name": "stdout",
     "output_type": "stream",
     "text": [
      "euclidian uniform h =  0.01 f =  0.026089955170205428 \n",
      "\n"
     ]
    },
    {
     "data": {
      "image/png": "[encoded data removed]",
      "text/plain": [
       "<matplotlib.figure.Figure at 0x1157ca358>"
      ]
     },
     "metadata": {
      "needs_background": "light"
     },
     "output_type": "display_data"
    },
    {
     "name": "stdout",
     "output_type": "stream",
     "text": [
      "manhattan quartic h =  0.029900000000000003 f =  0.3112875038780753 \n",
      "\n"
     ]
    },
    {
     "data": {
      "image/png": "[encoded data removed]",
      "text/plain": [
       "<matplotlib.figure.Figure at 0x1146d2470>"
      ]
     },
     "metadata": {
      "needs_background": "light"
     },
     "output_type": "display_data"
    },
    {
     "name": "stdout",
     "output_type": "stream",
     "text": [
      "euclidian quartic h =  0.01 f =  0.1561490657119436 \n",
      "\n"
     ]
    },
    {
     "data": {
      "image/png": "[encoded data removed]",
      "text/plain": [
       "<matplotlib.figure.Figure at 0x1159d6438>"
      ]
     },
     "metadata": {
      "needs_background": "light"
     },
     "output_type": "display_data"
    },
    {
     "name": "stdout",
     "output_type": "stream",
     "text": [
      "manhattan cosine h =  0.029900000000000003 f =  0.3112875038780753 \n",
      "\n"
     ]
    },
    {
     "data": {
      "image/png": "[encoded data removed]",
      "text/plain": [
       "<matplotlib.figure.Figure at 0x1157cc7b8>"
      ]
     },
     "metadata": {
      "needs_background": "light"
     },
     "output_type": "display_data"
    },
    {
     "name": "stdout",
     "output_type": "stream",
     "text": [
      "euclidian cosine h =  0.01 f =  0.1584879910906832 \n",
      "\n"
     ]
    },
    {
     "data": {
      "image/png": "[encoded data removed]",
      "text/plain": [
       "<matplotlib.figure.Figure at 0x115cc7e10>"
      ]
     },
     "metadata": {
      "needs_background": "light"
     },
     "output_type": "display_data"
    }
   ],
   "source": [
    "for kernelName in allKernels:\n",
    "    kernel = allKernels[kernelName]\n",
    "    for distName in allDistances:\n",
    "        dist = allDistances[distName]\n",
    "        \n",
    "        f = lambda h: testAlgo(test, n, lambda v: kNN(v, n, train, h, kernel, dist))\n",
    "        res, bestH, f = gridSearch(f, 0.01, 2.0, 0.05)\n",
    "        \n",
    "        xs = []\n",
    "        ys = []\n",
    "        for obj in sorted(res, key = lambda obj : obj['x']):\n",
    "            xs.append(obj['x'])\n",
    "            ys.append(obj['y'])\n",
    "        \n",
    "        print(distName, kernelName, \"h = \", bestH, \"f = \", f,'\\n')\n",
    "        \n",
    "        pyplot.plot(xs, ys)\n",
    "        pyplot.show()"
   ]
  },
  {
   "cell_type": "code",
   "execution_count": null,
   "metadata": {},
   "outputs": [],
   "source": [
    "for kernelName in allKernels:\n",
    "    kernel = allKernels[kernelName]\n",
    "    for distName in allDistances:\n",
    "        dist = allDistances[distName]\n",
    "        \n",
    "        f = lambda k: testAlgo(test, n, lambda v: varKNN(v, n, train, k, kernel, dist))\n",
    "        res, bestH, f = gridSearch(f, 1, n, 1)\n",
    "        \n",
    "        xs = []\n",
    "        ys = []\n",
    "        for obj in sorted(res, key = lambda obj : obj['x']):\n",
    "            xs.append(obj['x'])\n",
    "            ys.append(obj['y'])\n",
    "        \n",
    "        print(distName, kernelName, \"k = \", bestH, \"f = \", f,'\\n')\n",
    "        \n",
    "        pyplot.plot(xs, ys)\n",
    "        pyplot.show()"
   ]
  },
  {
   "cell_type": "code",
   "execution_count": null,
   "metadata": {},
   "outputs": [],
   "source": []
  }
 ],
 "metadata": {
  "kernelspec": {
   "display_name": "Python 3",
   "language": "python",
   "name": "python3"
  },
  "language_info": {
   "codemirror_mode": {
    "name": "ipython",
    "version": 3
   },
   "file_extension": ".py",
   "mimetype": "text/x-python",
   "name": "python",
   "nbconvert_exporter": "python",
   "pygments_lexer": "ipython3",
   "version": "3.5.2"
  }
 },
 "nbformat": 4,
 "nbformat_minor": 2
}
