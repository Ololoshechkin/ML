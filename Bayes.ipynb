{
 "cells": [
  {
   "cell_type": "code",
   "execution_count": 34,
   "metadata": {},
   "outputs": [],
   "source": [
    "from os import listdir\n",
    "import numpy as np\n",
    "from sklearn.metrics import f1_score\n",
    "from sklearn.metrics import accuracy_score\n",
    "import matplotlib.pyplot as plot\n",
    "import math\n",
    "from collections import defaultdict"
   ]
  },
  {
   "cell_type": "code",
   "execution_count": 35,
   "metadata": {},
   "outputs": [],
   "source": [
    "SPAM = 0\n",
    "NOT_SPAM = 1\n",
    "\n",
    "cSubject = 6"
   ]
  },
  {
   "cell_type": "code",
   "execution_count": 36,
   "metadata": {},
   "outputs": [],
   "source": [
    "def readFile(path):\n",
    "    file = open(path, \"r\")\n",
    "    file.readline\n",
    "    readInts = lambda: list(map(int, file.readline().strip().split(' ')[1:]))\n",
    "    subject = readInts()\n",
    "    readInts() # empty\n",
    "    message = readInts()\n",
    "    return {'subject': subject, 'message' : message, 'value': SPAM if ('spmsg' in path) else NOT_SPAM}\n",
    "\n",
    "def readDataset(path):\n",
    "    return [readFile(path + \"/\" + file) for file in listdir(path)]\n",
    "\n",
    "datasets = [readDataset('messages/part' + str(i)) for i in range(1, 11)]"
   ]
  },
  {
   "cell_type": "code",
   "execution_count": 37,
   "metadata": {},
   "outputs": [],
   "source": [
    "def printDsts(dsts):\n",
    "    r = 0\n",
    "\n",
    "    for i in range(len(dsts)):\n",
    "        m = sum([sum([word == 11317 for word in data['message']]) for data in dsts[i]])\n",
    "        s = sum([sum([word == 11317 for word in data['subject']]) for data in dsts[i]])\n",
    "        print(i + 1, 'messages', m)\n",
    "        print(i + 1, 'subjects', s)\n",
    "\n",
    "        r += m\n",
    "        r += s\n",
    "\n",
    "    print('total : ', r)"
   ]
  },
  {
   "cell_type": "code",
   "execution_count": 56,
   "metadata": {},
   "outputs": [],
   "source": [
    "def train(datasets, cSubject):\n",
    "    classes = [{'value': SPAM,     'messages': 0.0, 'words': defaultdict(int), 'prob': 0.0},\n",
    "               {'value': NOT_SPAM, 'messages': 0.0, 'words': defaultdict(int), 'prob': 0.0}]\n",
    "    for dataset in datasets:\n",
    "        for data in dataset:\n",
    "            i = data['value']\n",
    "            classes[i]['messages'] += 1\n",
    "            for word in set(data['message']):\n",
    "                classes[i]['words'][word] += 1.0\n",
    "            for word in set(data['subject']):\n",
    "                classes[i]['words'][word] += cSubject\n",
    "    for i in range(2):\n",
    "        classes[i]['prob'] = classes[i]['messages'] / sum([c['messages'] for c in classes])\n",
    "    return classes\n",
    "\n",
    "def predict(data, classes, alpha, lambdas):\n",
    "    def wordImpact(i, word):\n",
    "        a = alpha + classes[i]['words'][word]\n",
    "        b = classes[i]['messages'] + alpha * len(classes[i]['words'])\n",
    "        return math.log(a / b) # ln(Cnt[i] + a * Words[i]  /   a + )\n",
    "                \n",
    "    def getP(i):\n",
    "        totalWordImpact = sum([wordImpact(i, word) for word in set(data['message'] + data['subject'])])    \n",
    "        return math.log(lambdas[i]) + math.log(classes[i]['prob']) + totalWordImpact\n",
    "    \n",
    "    return classes[np.argmax([getP(i) for i in range(2)])]['value']\n",
    "\n",
    "def predictDataset(dataset, classes, alpha, lambdas):\n",
    "    return [predict(data, classes, alpha, lambdas) for data in dataset]"
   ]
  },
  {
   "cell_type": "code",
   "execution_count": 57,
   "metadata": {
    "scrolled": false
   },
   "outputs": [],
   "source": [
    "def trainClasses(drop):\n",
    "    trainData = datasets[:drop] + datasets[drop + 1:]\n",
    "    return train(trainData, cSubject)\n",
    "\n",
    "trainedClasses = [trainClasses(drop) for drop in range(10)]"
   ]
  },
  {
   "cell_type": "code",
   "execution_count": 58,
   "metadata": {},
   "outputs": [
    {
     "name": "stdout",
     "output_type": "stream",
     "text": [
      "uniq[0]:  12262\n",
      "uniq[1]:  16300\n",
      "msgs[0]:  432.0\n",
      "msgs[1]:  549.0\n",
      "prob[0]:  0.44036697247706424\n",
      "prob[1]:  0.5596330275229358\n",
      "\n",
      "11317 142.0\n",
      "11317 82.0\n"
     ]
    }
   ],
   "source": [
    "classes = trainClasses(0)\n",
    "\n",
    "print(\"uniq[0]: \", len(classes[0]['words']))\n",
    "print(\"uniq[1]: \", len(classes[1]['words']))\n",
    "print(\"msgs[0]: \", classes[0]['messages'])\n",
    "print(\"msgs[1]: \", classes[1]['messages'])\n",
    "print(\"prob[0]: \", classes[0]['prob'])\n",
    "print(\"prob[1]: \", classes[1]['prob'])\n",
    "print()\n",
    "word = 11317\n",
    "print(word, classes[SPAM]['words'][word])\n",
    "print(word, classes[NOT_SPAM]['words'][word])"
   ]
  },
  {
   "cell_type": "code",
   "execution_count": 41,
   "metadata": {},
   "outputs": [],
   "source": [
    "def tens(a, b):\n",
    "    return np.geomspace(10 ** a, 10 ** b, num = b - a + 1)"
   ]
  },
  {
   "cell_type": "code",
   "execution_count": 42,
   "metadata": {},
   "outputs": [],
   "source": [
    "cSubject = 6"
   ]
  },
  {
   "cell_type": "code",
   "execution_count": 43,
   "metadata": {},
   "outputs": [],
   "source": [
    "def evaluate(alpha, lLegit):\n",
    "    score = 0\n",
    "    fps = 0\n",
    "    for drop in range(10):\n",
    "        classes = trainedClasses[drop]\n",
    "        testData = datasets[drop]\n",
    "\n",
    "        yp = predictDataset(testData, classes, alpha, [1, lLegit])\n",
    "        yt = [data['value'] for data in testData]\n",
    "        score += accuracy_score(yp, yt)\n",
    "        fps += fp(yp, yt)\n",
    "    return score, fps"
   ]
  },
  {
   "cell_type": "code",
   "execution_count": 53,
   "metadata": {},
   "outputs": [],
   "source": [
    "def fp(y1, y2):\n",
    "    return sum([y1[i] == SPAM and y2[i] == NOT_SPAM for i in range(len(y1))])"
   ]
  },
  {
   "cell_type": "code",
   "execution_count": 64,
   "metadata": {},
   "outputs": [],
   "source": [
    "def binsearch(X, f):\n",
    "    if not f(X[-1]):\n",
    "        return X[-1], False\n",
    "    if f(X[0]):\n",
    "        return X[0], True\n",
    "    l = 0\n",
    "    r = len(X) - 1\n",
    "    while r != l + 1:\n",
    "        m = int((l + r) / 2)\n",
    "        if f(X[m]):\n",
    "            r = m\n",
    "        else:\n",
    "            l = m\n",
    "    return X[r], True"
   ]
  },
  {
   "cell_type": "code",
   "execution_count": 68,
   "metadata": {},
   "outputs": [
    {
     "name": "stdout",
     "output_type": "stream",
     "text": [
      "1e-10 1.0 9.77981651376147 10\n",
      "1e-10 10.0 9.77981651376147 10\n",
      "1e-10 100.0 9.79816513761468 8\n",
      "1e-10 1000.0 9.79816513761468 8\n",
      "1e-10 10000.0 9.77981651376147 8\n",
      "1e-10 100000.0 9.77981651376147 7\n",
      "1e-10 1000000.0 9.77981651376147 7\n",
      "1e-10 10000000.0 9.770642201834864 7\n",
      "1e-10 100000000.0 9.743119266055047 7\n",
      "1e-10 1000000000.0 9.743119266055047 6\n",
      "1e-10 10000000000.0 9.715596330275229 6\n",
      "1e-10 100000000000.0 9.715596330275229 5\n",
      "1e-10 1000000000000.0 9.724770642201834 4\n",
      "1e-10 10000000000000.0 9.724770642201836 3\n",
      "1e-10 100000000000000.0 9.71559633027523 3\n",
      "1e-10 1000000000000000.0 9.706422018348626 2\n",
      "1e-10 1e+16 9.697247706422019 2\n",
      "1e-10 1e+17 9.678899082568808 2\n",
      "1e-10 1e+18 9.660550458715598 2\n",
      "1e-10 1e+19 9.623853211009175 2\n",
      "1e-10 1e+20 9.587155963302754 2\n",
      "1e-10 1e+21 9.577981651376147 2\n",
      "1e-10 1e+22 9.559633027522937 2\n",
      "1e-10 1e+23 9.550458715596331 2\n",
      "1e-10 1e+24 9.550458715596331 2\n",
      "1e-10 1e+25 9.504587155963302 2\n",
      "1e-10 1e+26 9.486238532110091 2\n",
      "1e-10 1e+27 9.486238532110091 2\n",
      "1e-10 1e+28 9.486238532110091 2\n",
      "1e-10 1e+29 9.477064220183486 2\n",
      "1e-10 1e+30 9.46788990825688 2\n",
      "1e-10 1e+31 9.458715596330276 2\n",
      "1e-10 1e+32 9.440366972477063 2\n",
      "1e-10 1e+33 9.440366972477063 2\n",
      "1e-10 1e+34 9.431192660550458 2\n",
      "1e-10 1e+35 9.422018348623853 2\n",
      "1e-10 1e+36 9.394495412844037 2\n",
      "1e-10 1e+37 9.385321100917432 2\n",
      "1e-10 1e+38 9.385321100917432 2\n",
      "1e-10 1e+39 9.34862385321101 2\n",
      "1e-10 1e+40 9.330275229357799 2\n",
      "1e-10 1e+41 9.311926605504588 2\n",
      "1e-10 1e+42 9.311926605504588 2\n",
      "1e-10 1e+43 9.293577981651376 2\n",
      "1e-10 1e+44 9.256880733944953 2\n",
      "1e-10 1e+45 9.220183486238533 2\n",
      "1e-10 1e+46 9.220183486238533 2\n",
      "1e-10 1e+47 9.201834862385322 2\n",
      "1e-10 1e+48 9.201834862385322 2\n",
      "1e-10 1e+49 9.192660550458715 2\n",
      "1e-10 1e+50 9.1651376146789 2\n",
      "1e-10 1e+51 9.137614678899084 2\n",
      "1e-10 1e+52 9.137614678899084 2\n",
      "1e-10 1e+53 9.110091743119266 2\n",
      "1e-10 1e+54 9.100917431192661 2\n",
      "1e-10 1e+55 9.100917431192661 1\n",
      "1e-10 1e+56 9.073394495412845 1\n",
      "1e-10 1e+57 9.073394495412845 1\n",
      "1e-10 1e+58 9.045871559633028 1\n",
      "1e-10 1e+59 9.027522935779816 1\n",
      "1e-10 1e+60 9.01834862385321 1\n",
      "1e-10 1e+61 9.009174311926605 1\n",
      "1e-10 1e+62 9.0 1\n",
      "1e-10 1e+63 8.972477064220183 1\n",
      "1e-10 1e+64 8.935779816513762 1\n",
      "1e-10 1e+65 8.89908256880734 1\n",
      "1e-10 1e+66 8.88073394495413 1\n",
      "1e-10 1e+67 8.825688073394495 1\n",
      "1e-10 1e+68 8.816513761467888 1\n",
      "1e-10 1e+69 8.807339449541283 1\n",
      "1e-10 1e+70 8.770642201834862 1\n"
     ]
    },
    {
     "ename": "KeyboardInterrupt",
     "evalue": "",
     "output_type": "error",
     "traceback": [
      "\u001b[0;31m---------------------------------------------------------------------------\u001b[0m",
      "\u001b[0;31mKeyboardInterrupt\u001b[0m                         Traceback (most recent call last)",
      "\u001b[0;32m<ipython-input-68-c23a56b4eadd>\u001b[0m in \u001b[0;36m<module>\u001b[0;34m\u001b[0m\n\u001b[1;32m      6\u001b[0m \u001b[0;32mfor\u001b[0m \u001b[0malpha\u001b[0m \u001b[0;32min\u001b[0m \u001b[0mtens\u001b[0m\u001b[0;34m(\u001b[0m\u001b[0;34m-\u001b[0m\u001b[0;36m10.0\u001b[0m\u001b[0;34m,\u001b[0m \u001b[0;36m0.0\u001b[0m\u001b[0;34m)\u001b[0m\u001b[0;34m:\u001b[0m\u001b[0;34m\u001b[0m\u001b[0;34m\u001b[0m\u001b[0m\n\u001b[1;32m      7\u001b[0m     \u001b[0;32mfor\u001b[0m \u001b[0mlLegit\u001b[0m \u001b[0;32min\u001b[0m \u001b[0mtens\u001b[0m\u001b[0;34m(\u001b[0m\u001b[0;36m0.0\u001b[0m\u001b[0;34m,\u001b[0m \u001b[0;36m90.0\u001b[0m\u001b[0;34m)\u001b[0m\u001b[0;34m:\u001b[0m\u001b[0;34m\u001b[0m\u001b[0;34m\u001b[0m\u001b[0m\n\u001b[0;32m----> 8\u001b[0;31m         \u001b[0mscore\u001b[0m\u001b[0;34m,\u001b[0m \u001b[0mfps\u001b[0m \u001b[0;34m=\u001b[0m \u001b[0mevaluate\u001b[0m\u001b[0;34m(\u001b[0m\u001b[0malpha\u001b[0m\u001b[0;34m,\u001b[0m \u001b[0mlLegit\u001b[0m\u001b[0;34m)\u001b[0m\u001b[0;34m\u001b[0m\u001b[0;34m\u001b[0m\u001b[0m\n\u001b[0m\u001b[1;32m      9\u001b[0m         \u001b[0mprint\u001b[0m\u001b[0;34m(\u001b[0m\u001b[0malpha\u001b[0m\u001b[0;34m,\u001b[0m \u001b[0mlLegit\u001b[0m\u001b[0;34m,\u001b[0m \u001b[0mscore\u001b[0m\u001b[0;34m,\u001b[0m \u001b[0mfps\u001b[0m\u001b[0;34m)\u001b[0m\u001b[0;34m\u001b[0m\u001b[0;34m\u001b[0m\u001b[0m\n\u001b[1;32m     10\u001b[0m         \u001b[0;32mif\u001b[0m \u001b[0mfps\u001b[0m \u001b[0;34m!=\u001b[0m \u001b[0;36m0\u001b[0m\u001b[0;34m:\u001b[0m\u001b[0;34m\u001b[0m\u001b[0;34m\u001b[0m\u001b[0m\n",
      "\u001b[0;32m<ipython-input-43-c313a5d6a3a1>\u001b[0m in \u001b[0;36mevaluate\u001b[0;34m(alpha, lLegit)\u001b[0m\n\u001b[1;32m      6\u001b[0m         \u001b[0mtestData\u001b[0m \u001b[0;34m=\u001b[0m \u001b[0mdatasets\u001b[0m\u001b[0;34m[\u001b[0m\u001b[0mdrop\u001b[0m\u001b[0;34m]\u001b[0m\u001b[0;34m\u001b[0m\u001b[0;34m\u001b[0m\u001b[0m\n\u001b[1;32m      7\u001b[0m \u001b[0;34m\u001b[0m\u001b[0m\n\u001b[0;32m----> 8\u001b[0;31m         \u001b[0myp\u001b[0m \u001b[0;34m=\u001b[0m \u001b[0mpredictDataset\u001b[0m\u001b[0;34m(\u001b[0m\u001b[0mtestData\u001b[0m\u001b[0;34m,\u001b[0m \u001b[0mclasses\u001b[0m\u001b[0;34m,\u001b[0m \u001b[0malpha\u001b[0m\u001b[0;34m,\u001b[0m \u001b[0;34m[\u001b[0m\u001b[0;36m1\u001b[0m\u001b[0;34m,\u001b[0m \u001b[0mlLegit\u001b[0m\u001b[0;34m]\u001b[0m\u001b[0;34m)\u001b[0m\u001b[0;34m\u001b[0m\u001b[0;34m\u001b[0m\u001b[0m\n\u001b[0m\u001b[1;32m      9\u001b[0m         \u001b[0myt\u001b[0m \u001b[0;34m=\u001b[0m \u001b[0;34m[\u001b[0m\u001b[0mdata\u001b[0m\u001b[0;34m[\u001b[0m\u001b[0;34m'value'\u001b[0m\u001b[0;34m]\u001b[0m \u001b[0;32mfor\u001b[0m \u001b[0mdata\u001b[0m \u001b[0;32min\u001b[0m \u001b[0mtestData\u001b[0m\u001b[0;34m]\u001b[0m\u001b[0;34m\u001b[0m\u001b[0;34m\u001b[0m\u001b[0m\n\u001b[1;32m     10\u001b[0m         \u001b[0mscore\u001b[0m \u001b[0;34m+=\u001b[0m \u001b[0maccuracy_score\u001b[0m\u001b[0;34m(\u001b[0m\u001b[0myp\u001b[0m\u001b[0;34m,\u001b[0m \u001b[0myt\u001b[0m\u001b[0;34m)\u001b[0m\u001b[0;34m\u001b[0m\u001b[0;34m\u001b[0m\u001b[0m\n",
      "\u001b[0;32m<ipython-input-56-f8fe09643699>\u001b[0m in \u001b[0;36mpredictDataset\u001b[0;34m(dataset, classes, alpha, lambdas)\u001b[0m\n\u001b[1;32m     27\u001b[0m \u001b[0;34m\u001b[0m\u001b[0m\n\u001b[1;32m     28\u001b[0m \u001b[0;32mdef\u001b[0m \u001b[0mpredictDataset\u001b[0m\u001b[0;34m(\u001b[0m\u001b[0mdataset\u001b[0m\u001b[0;34m,\u001b[0m \u001b[0mclasses\u001b[0m\u001b[0;34m,\u001b[0m \u001b[0malpha\u001b[0m\u001b[0;34m,\u001b[0m \u001b[0mlambdas\u001b[0m\u001b[0;34m)\u001b[0m\u001b[0;34m:\u001b[0m\u001b[0;34m\u001b[0m\u001b[0;34m\u001b[0m\u001b[0m\n\u001b[0;32m---> 29\u001b[0;31m     \u001b[0;32mreturn\u001b[0m \u001b[0;34m[\u001b[0m\u001b[0mpredict\u001b[0m\u001b[0;34m(\u001b[0m\u001b[0mdata\u001b[0m\u001b[0;34m,\u001b[0m \u001b[0mclasses\u001b[0m\u001b[0;34m,\u001b[0m \u001b[0malpha\u001b[0m\u001b[0;34m,\u001b[0m \u001b[0mlambdas\u001b[0m\u001b[0;34m)\u001b[0m \u001b[0;32mfor\u001b[0m \u001b[0mdata\u001b[0m \u001b[0;32min\u001b[0m \u001b[0mdataset\u001b[0m\u001b[0;34m]\u001b[0m\u001b[0;34m\u001b[0m\u001b[0;34m\u001b[0m\u001b[0m\n\u001b[0m",
      "\u001b[0;32m<ipython-input-56-f8fe09643699>\u001b[0m in \u001b[0;36m<listcomp>\u001b[0;34m(.0)\u001b[0m\n\u001b[1;32m     27\u001b[0m \u001b[0;34m\u001b[0m\u001b[0m\n\u001b[1;32m     28\u001b[0m \u001b[0;32mdef\u001b[0m \u001b[0mpredictDataset\u001b[0m\u001b[0;34m(\u001b[0m\u001b[0mdataset\u001b[0m\u001b[0;34m,\u001b[0m \u001b[0mclasses\u001b[0m\u001b[0;34m,\u001b[0m \u001b[0malpha\u001b[0m\u001b[0;34m,\u001b[0m \u001b[0mlambdas\u001b[0m\u001b[0;34m)\u001b[0m\u001b[0;34m:\u001b[0m\u001b[0;34m\u001b[0m\u001b[0;34m\u001b[0m\u001b[0m\n\u001b[0;32m---> 29\u001b[0;31m     \u001b[0;32mreturn\u001b[0m \u001b[0;34m[\u001b[0m\u001b[0mpredict\u001b[0m\u001b[0;34m(\u001b[0m\u001b[0mdata\u001b[0m\u001b[0;34m,\u001b[0m \u001b[0mclasses\u001b[0m\u001b[0;34m,\u001b[0m \u001b[0malpha\u001b[0m\u001b[0;34m,\u001b[0m \u001b[0mlambdas\u001b[0m\u001b[0;34m)\u001b[0m \u001b[0;32mfor\u001b[0m \u001b[0mdata\u001b[0m \u001b[0;32min\u001b[0m \u001b[0mdataset\u001b[0m\u001b[0;34m]\u001b[0m\u001b[0;34m\u001b[0m\u001b[0;34m\u001b[0m\u001b[0m\n\u001b[0m",
      "\u001b[0;32m<ipython-input-56-f8fe09643699>\u001b[0m in \u001b[0;36mpredict\u001b[0;34m(data, classes, alpha, lambdas)\u001b[0m\n\u001b[1;32m     24\u001b[0m         \u001b[0;32mreturn\u001b[0m \u001b[0mmath\u001b[0m\u001b[0;34m.\u001b[0m\u001b[0mlog\u001b[0m\u001b[0;34m(\u001b[0m\u001b[0mlambdas\u001b[0m\u001b[0;34m[\u001b[0m\u001b[0mi\u001b[0m\u001b[0;34m]\u001b[0m\u001b[0;34m)\u001b[0m \u001b[0;34m+\u001b[0m \u001b[0mmath\u001b[0m\u001b[0;34m.\u001b[0m\u001b[0mlog\u001b[0m\u001b[0;34m(\u001b[0m\u001b[0mclasses\u001b[0m\u001b[0;34m[\u001b[0m\u001b[0mi\u001b[0m\u001b[0;34m]\u001b[0m\u001b[0;34m[\u001b[0m\u001b[0;34m'prob'\u001b[0m\u001b[0;34m]\u001b[0m\u001b[0;34m)\u001b[0m \u001b[0;34m+\u001b[0m \u001b[0mtotalWordImpact\u001b[0m\u001b[0;34m\u001b[0m\u001b[0;34m\u001b[0m\u001b[0m\n\u001b[1;32m     25\u001b[0m \u001b[0;34m\u001b[0m\u001b[0m\n\u001b[0;32m---> 26\u001b[0;31m     \u001b[0;32mreturn\u001b[0m \u001b[0mclasses\u001b[0m\u001b[0;34m[\u001b[0m\u001b[0mnp\u001b[0m\u001b[0;34m.\u001b[0m\u001b[0margmax\u001b[0m\u001b[0;34m(\u001b[0m\u001b[0;34m[\u001b[0m\u001b[0mgetP\u001b[0m\u001b[0;34m(\u001b[0m\u001b[0mi\u001b[0m\u001b[0;34m)\u001b[0m \u001b[0;32mfor\u001b[0m \u001b[0mi\u001b[0m \u001b[0;32min\u001b[0m \u001b[0mrange\u001b[0m\u001b[0;34m(\u001b[0m\u001b[0;36m2\u001b[0m\u001b[0;34m)\u001b[0m\u001b[0;34m]\u001b[0m\u001b[0;34m)\u001b[0m\u001b[0;34m]\u001b[0m\u001b[0;34m[\u001b[0m\u001b[0;34m'value'\u001b[0m\u001b[0;34m]\u001b[0m\u001b[0;34m\u001b[0m\u001b[0;34m\u001b[0m\u001b[0m\n\u001b[0m\u001b[1;32m     27\u001b[0m \u001b[0;34m\u001b[0m\u001b[0m\n\u001b[1;32m     28\u001b[0m \u001b[0;32mdef\u001b[0m \u001b[0mpredictDataset\u001b[0m\u001b[0;34m(\u001b[0m\u001b[0mdataset\u001b[0m\u001b[0;34m,\u001b[0m \u001b[0mclasses\u001b[0m\u001b[0;34m,\u001b[0m \u001b[0malpha\u001b[0m\u001b[0;34m,\u001b[0m \u001b[0mlambdas\u001b[0m\u001b[0;34m)\u001b[0m\u001b[0;34m:\u001b[0m\u001b[0;34m\u001b[0m\u001b[0;34m\u001b[0m\u001b[0m\n",
      "\u001b[0;32m<ipython-input-56-f8fe09643699>\u001b[0m in \u001b[0;36m<listcomp>\u001b[0;34m(.0)\u001b[0m\n\u001b[1;32m     24\u001b[0m         \u001b[0;32mreturn\u001b[0m \u001b[0mmath\u001b[0m\u001b[0;34m.\u001b[0m\u001b[0mlog\u001b[0m\u001b[0;34m(\u001b[0m\u001b[0mlambdas\u001b[0m\u001b[0;34m[\u001b[0m\u001b[0mi\u001b[0m\u001b[0;34m]\u001b[0m\u001b[0;34m)\u001b[0m \u001b[0;34m+\u001b[0m \u001b[0mmath\u001b[0m\u001b[0;34m.\u001b[0m\u001b[0mlog\u001b[0m\u001b[0;34m(\u001b[0m\u001b[0mclasses\u001b[0m\u001b[0;34m[\u001b[0m\u001b[0mi\u001b[0m\u001b[0;34m]\u001b[0m\u001b[0;34m[\u001b[0m\u001b[0;34m'prob'\u001b[0m\u001b[0;34m]\u001b[0m\u001b[0;34m)\u001b[0m \u001b[0;34m+\u001b[0m \u001b[0mtotalWordImpact\u001b[0m\u001b[0;34m\u001b[0m\u001b[0;34m\u001b[0m\u001b[0m\n\u001b[1;32m     25\u001b[0m \u001b[0;34m\u001b[0m\u001b[0m\n\u001b[0;32m---> 26\u001b[0;31m     \u001b[0;32mreturn\u001b[0m \u001b[0mclasses\u001b[0m\u001b[0;34m[\u001b[0m\u001b[0mnp\u001b[0m\u001b[0;34m.\u001b[0m\u001b[0margmax\u001b[0m\u001b[0;34m(\u001b[0m\u001b[0;34m[\u001b[0m\u001b[0mgetP\u001b[0m\u001b[0;34m(\u001b[0m\u001b[0mi\u001b[0m\u001b[0;34m)\u001b[0m \u001b[0;32mfor\u001b[0m \u001b[0mi\u001b[0m \u001b[0;32min\u001b[0m \u001b[0mrange\u001b[0m\u001b[0;34m(\u001b[0m\u001b[0;36m2\u001b[0m\u001b[0;34m)\u001b[0m\u001b[0;34m]\u001b[0m\u001b[0;34m)\u001b[0m\u001b[0;34m]\u001b[0m\u001b[0;34m[\u001b[0m\u001b[0;34m'value'\u001b[0m\u001b[0;34m]\u001b[0m\u001b[0;34m\u001b[0m\u001b[0;34m\u001b[0m\u001b[0m\n\u001b[0m\u001b[1;32m     27\u001b[0m \u001b[0;34m\u001b[0m\u001b[0m\n\u001b[1;32m     28\u001b[0m \u001b[0;32mdef\u001b[0m \u001b[0mpredictDataset\u001b[0m\u001b[0;34m(\u001b[0m\u001b[0mdataset\u001b[0m\u001b[0;34m,\u001b[0m \u001b[0mclasses\u001b[0m\u001b[0;34m,\u001b[0m \u001b[0malpha\u001b[0m\u001b[0;34m,\u001b[0m \u001b[0mlambdas\u001b[0m\u001b[0;34m)\u001b[0m\u001b[0;34m:\u001b[0m\u001b[0;34m\u001b[0m\u001b[0;34m\u001b[0m\u001b[0m\n",
      "\u001b[0;32m<ipython-input-56-f8fe09643699>\u001b[0m in \u001b[0;36mgetP\u001b[0;34m(i)\u001b[0m\n\u001b[1;32m     21\u001b[0m \u001b[0;34m\u001b[0m\u001b[0m\n\u001b[1;32m     22\u001b[0m     \u001b[0;32mdef\u001b[0m \u001b[0mgetP\u001b[0m\u001b[0;34m(\u001b[0m\u001b[0mi\u001b[0m\u001b[0;34m)\u001b[0m\u001b[0;34m:\u001b[0m\u001b[0;34m\u001b[0m\u001b[0;34m\u001b[0m\u001b[0m\n\u001b[0;32m---> 23\u001b[0;31m         \u001b[0mtotalWordImpact\u001b[0m \u001b[0;34m=\u001b[0m \u001b[0msum\u001b[0m\u001b[0;34m(\u001b[0m\u001b[0;34m[\u001b[0m\u001b[0mwordImpact\u001b[0m\u001b[0;34m(\u001b[0m\u001b[0mi\u001b[0m\u001b[0;34m,\u001b[0m \u001b[0mword\u001b[0m\u001b[0;34m)\u001b[0m \u001b[0;32mfor\u001b[0m \u001b[0mword\u001b[0m \u001b[0;32min\u001b[0m \u001b[0mset\u001b[0m\u001b[0;34m(\u001b[0m\u001b[0mdata\u001b[0m\u001b[0;34m[\u001b[0m\u001b[0;34m'message'\u001b[0m\u001b[0;34m]\u001b[0m \u001b[0;34m+\u001b[0m \u001b[0mdata\u001b[0m\u001b[0;34m[\u001b[0m\u001b[0;34m'subject'\u001b[0m\u001b[0;34m]\u001b[0m\u001b[0;34m)\u001b[0m\u001b[0;34m]\u001b[0m\u001b[0;34m)\u001b[0m\u001b[0;34m\u001b[0m\u001b[0;34m\u001b[0m\u001b[0m\n\u001b[0m\u001b[1;32m     24\u001b[0m         \u001b[0;32mreturn\u001b[0m \u001b[0mmath\u001b[0m\u001b[0;34m.\u001b[0m\u001b[0mlog\u001b[0m\u001b[0;34m(\u001b[0m\u001b[0mlambdas\u001b[0m\u001b[0;34m[\u001b[0m\u001b[0mi\u001b[0m\u001b[0;34m]\u001b[0m\u001b[0;34m)\u001b[0m \u001b[0;34m+\u001b[0m \u001b[0mmath\u001b[0m\u001b[0;34m.\u001b[0m\u001b[0mlog\u001b[0m\u001b[0;34m(\u001b[0m\u001b[0mclasses\u001b[0m\u001b[0;34m[\u001b[0m\u001b[0mi\u001b[0m\u001b[0;34m]\u001b[0m\u001b[0;34m[\u001b[0m\u001b[0;34m'prob'\u001b[0m\u001b[0;34m]\u001b[0m\u001b[0;34m)\u001b[0m \u001b[0;34m+\u001b[0m \u001b[0mtotalWordImpact\u001b[0m\u001b[0;34m\u001b[0m\u001b[0;34m\u001b[0m\u001b[0m\n\u001b[1;32m     25\u001b[0m \u001b[0;34m\u001b[0m\u001b[0m\n",
      "\u001b[0;32m<ipython-input-56-f8fe09643699>\u001b[0m in \u001b[0;36m<listcomp>\u001b[0;34m(.0)\u001b[0m\n\u001b[1;32m     21\u001b[0m \u001b[0;34m\u001b[0m\u001b[0m\n\u001b[1;32m     22\u001b[0m     \u001b[0;32mdef\u001b[0m \u001b[0mgetP\u001b[0m\u001b[0;34m(\u001b[0m\u001b[0mi\u001b[0m\u001b[0;34m)\u001b[0m\u001b[0;34m:\u001b[0m\u001b[0;34m\u001b[0m\u001b[0;34m\u001b[0m\u001b[0m\n\u001b[0;32m---> 23\u001b[0;31m         \u001b[0mtotalWordImpact\u001b[0m \u001b[0;34m=\u001b[0m \u001b[0msum\u001b[0m\u001b[0;34m(\u001b[0m\u001b[0;34m[\u001b[0m\u001b[0mwordImpact\u001b[0m\u001b[0;34m(\u001b[0m\u001b[0mi\u001b[0m\u001b[0;34m,\u001b[0m \u001b[0mword\u001b[0m\u001b[0;34m)\u001b[0m \u001b[0;32mfor\u001b[0m \u001b[0mword\u001b[0m \u001b[0;32min\u001b[0m \u001b[0mset\u001b[0m\u001b[0;34m(\u001b[0m\u001b[0mdata\u001b[0m\u001b[0;34m[\u001b[0m\u001b[0;34m'message'\u001b[0m\u001b[0;34m]\u001b[0m \u001b[0;34m+\u001b[0m \u001b[0mdata\u001b[0m\u001b[0;34m[\u001b[0m\u001b[0;34m'subject'\u001b[0m\u001b[0;34m]\u001b[0m\u001b[0;34m)\u001b[0m\u001b[0;34m]\u001b[0m\u001b[0;34m)\u001b[0m\u001b[0;34m\u001b[0m\u001b[0;34m\u001b[0m\u001b[0m\n\u001b[0m\u001b[1;32m     24\u001b[0m         \u001b[0;32mreturn\u001b[0m \u001b[0mmath\u001b[0m\u001b[0;34m.\u001b[0m\u001b[0mlog\u001b[0m\u001b[0;34m(\u001b[0m\u001b[0mlambdas\u001b[0m\u001b[0;34m[\u001b[0m\u001b[0mi\u001b[0m\u001b[0;34m]\u001b[0m\u001b[0;34m)\u001b[0m \u001b[0;34m+\u001b[0m \u001b[0mmath\u001b[0m\u001b[0;34m.\u001b[0m\u001b[0mlog\u001b[0m\u001b[0;34m(\u001b[0m\u001b[0mclasses\u001b[0m\u001b[0;34m[\u001b[0m\u001b[0mi\u001b[0m\u001b[0;34m]\u001b[0m\u001b[0;34m[\u001b[0m\u001b[0;34m'prob'\u001b[0m\u001b[0;34m]\u001b[0m\u001b[0;34m)\u001b[0m \u001b[0;34m+\u001b[0m \u001b[0mtotalWordImpact\u001b[0m\u001b[0;34m\u001b[0m\u001b[0;34m\u001b[0m\u001b[0m\n\u001b[1;32m     25\u001b[0m \u001b[0;34m\u001b[0m\u001b[0m\n",
      "\u001b[0;32m<ipython-input-56-f8fe09643699>\u001b[0m in \u001b[0;36mwordImpact\u001b[0;34m(i, word)\u001b[0m\n\u001b[1;32m     18\u001b[0m         \u001b[0ma\u001b[0m \u001b[0;34m=\u001b[0m \u001b[0malpha\u001b[0m \u001b[0;34m+\u001b[0m \u001b[0mclasses\u001b[0m\u001b[0;34m[\u001b[0m\u001b[0mi\u001b[0m\u001b[0;34m]\u001b[0m\u001b[0;34m[\u001b[0m\u001b[0;34m'words'\u001b[0m\u001b[0;34m]\u001b[0m\u001b[0;34m[\u001b[0m\u001b[0mword\u001b[0m\u001b[0;34m]\u001b[0m\u001b[0;34m\u001b[0m\u001b[0;34m\u001b[0m\u001b[0m\n\u001b[1;32m     19\u001b[0m         \u001b[0mb\u001b[0m \u001b[0;34m=\u001b[0m \u001b[0mclasses\u001b[0m\u001b[0;34m[\u001b[0m\u001b[0mi\u001b[0m\u001b[0;34m]\u001b[0m\u001b[0;34m[\u001b[0m\u001b[0;34m'messages'\u001b[0m\u001b[0;34m]\u001b[0m \u001b[0;34m+\u001b[0m \u001b[0malpha\u001b[0m \u001b[0;34m*\u001b[0m \u001b[0mlen\u001b[0m\u001b[0;34m(\u001b[0m\u001b[0mclasses\u001b[0m\u001b[0;34m[\u001b[0m\u001b[0mi\u001b[0m\u001b[0;34m]\u001b[0m\u001b[0;34m[\u001b[0m\u001b[0;34m'words'\u001b[0m\u001b[0;34m]\u001b[0m\u001b[0;34m)\u001b[0m\u001b[0;34m\u001b[0m\u001b[0;34m\u001b[0m\u001b[0m\n\u001b[0;32m---> 20\u001b[0;31m         \u001b[0;32mreturn\u001b[0m \u001b[0mmath\u001b[0m\u001b[0;34m.\u001b[0m\u001b[0mlog\u001b[0m\u001b[0;34m(\u001b[0m\u001b[0ma\u001b[0m \u001b[0;34m/\u001b[0m \u001b[0mb\u001b[0m\u001b[0;34m)\u001b[0m \u001b[0;31m# ln(Cnt[i] + a * Words[i]  /   a + )\u001b[0m\u001b[0;34m\u001b[0m\u001b[0;34m\u001b[0m\u001b[0m\n\u001b[0m\u001b[1;32m     21\u001b[0m \u001b[0;34m\u001b[0m\u001b[0m\n\u001b[1;32m     22\u001b[0m     \u001b[0;32mdef\u001b[0m \u001b[0mgetP\u001b[0m\u001b[0;34m(\u001b[0m\u001b[0mi\u001b[0m\u001b[0;34m)\u001b[0m\u001b[0;34m:\u001b[0m\u001b[0;34m\u001b[0m\u001b[0;34m\u001b[0m\u001b[0m\n",
      "\u001b[0;31mKeyboardInterrupt\u001b[0m: "
     ]
    }
   ],
   "source": [
    "# SLOW VERSION!\n",
    "maxScore = 0.0\n",
    "bestAlpha = 1.0\n",
    "bestLLegit = 1.0\n",
    "\n",
    "for alpha in tens(-10.0, 0.0):\n",
    "    for lLegit in tens(0.0, 90.0):\n",
    "        score, fps = evaluate(alpha, lLegit)\n",
    "        print(alpha, lLegit, score, fps)\n",
    "        if fps != 0:\n",
    "            continue\n",
    "        \n",
    "        if score > maxScore:\n",
    "            maxScore = score\n",
    "            bestAlpha = alpha\n",
    "            bestLLegit = lLegit\n",
    "             \n",
    "print(maxScore / 10)\n",
    "print(bestAlpha)\n",
    "print(bestLLegit)"
   ]
  },
  {
   "cell_type": "code",
   "execution_count": 67,
   "metadata": {},
   "outputs": [
    {
     "name": "stdout",
     "output_type": "stream",
     "text": [
      "0.8486238532110093\n",
      "1e-05\n",
      "1e+46\n"
     ]
    }
   ],
   "source": [
    "# FAST VERSION!\n",
    "maxScore = 0.0\n",
    "bestAlpha = 1.0\n",
    "bestLLegit = 1.0\n",
    "\n",
    "for alpha in tens(-10.0, 0.0):\n",
    "    minLLegit, ok = binsearch(tens(0.0, 90.0), lambda lLegit: evaluate(alpha, lLegit)[1] == 0)\n",
    "    \n",
    "    if not ok:\n",
    "        continue\n",
    "    \n",
    "    score, _ = evaluate(alpha, minLLegit)\n",
    "\n",
    "    if score > maxScore:\n",
    "        maxScore = score\n",
    "        bestAlpha = alpha\n",
    "        bestLLegit = lLegit\n",
    "             \n",
    "print(maxScore / 10)\n",
    "print(bestAlpha)\n",
    "print(bestLLegit)"
   ]
  },
  {
   "cell_type": "code",
   "execution_count": 69,
   "metadata": {},
   "outputs": [],
   "source": [
    "alpha = 1e-05\n",
    "\n",
    "xx = []\n",
    "scores = []\n",
    "\n",
    "for lLegit in tens(0.0, 46.0):\n",
    "    score, _ = evaluate(alpha, lLegit)\n",
    "\n",
    "    xx.append(math.log(lLegit))\n",
    "    scores.append(score / 10)"
   ]
  },
  {
   "cell_type": "code",
   "execution_count": 70,
   "metadata": {},
   "outputs": [
    {
     "data": {
      "image/png": "[encoded data removed]",
      "text/plain": [
       "<Figure size 432x288 with 1 Axes>"
      ]
     },
     "metadata": {
      "needs_background": "light"
     },
     "output_type": "display_data"
    }
   ],
   "source": [
    "plot.plot(xx, scores)\n",
    "plot.show()"
   ]
  },
  {
   "cell_type": "code",
   "execution_count": 75,
   "metadata": {},
   "outputs": [
    {
     "data": {
      "image/png": "[encoded data removed]",
      "text/plain": [
       "<Figure size 432x288 with 1 Axes>"
      ]
     },
     "metadata": {
      "needs_background": "light"
     },
     "output_type": "display_data"
    }
   ],
   "source": [
    "for alpha in [1e-08, 1e-06, 1e-05, 1e-02]:\n",
    "    xx = []\n",
    "    scores = []\n",
    "\n",
    "    for lLegit in tens(0.0, 70.0):\n",
    "        score, _ = evaluate(alpha, lLegit)\n",
    "\n",
    "        xx.append(math.log(lLegit))\n",
    "        scores.append(score / 10)\n",
    "\n",
    "    plot.plot(xx, scores, label=('alpha = ' + str(alpha)))\n",
    "plot.legend()\n",
    "plot.show()"
   ]
  },
  {
   "cell_type": "markdown",
   "metadata": {},
   "source": []
  }
 ],
 "metadata": {
  "kernelspec": {
   "display_name": "Python 3",
   "language": "python",
   "name": "python3"
  },
  "language_info": {
   "codemirror_mode": {
    "name": "ipython",
    "version": 3
   },
   "file_extension": ".py",
   "mimetype": "text/x-python",
   "name": "python",
   "nbconvert_exporter": "python",
   "pygments_lexer": "ipython3",
   "version": "3.7.4"
  }
 },
 "nbformat": 4,
 "nbformat_minor": 2
}
