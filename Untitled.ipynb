{
 "cells": [
  {
   "cell_type": "code",
   "execution_count": null,
   "metadata": {},
   "outputs": [],
   "source": [
    "import numpy as np\n",
    "from numpy.linalg import pinv\n",
    "from matplotlib import pyplot"
   ]
  },
  {
   "cell_type": "code",
   "execution_count": null,
   "metadata": {},
   "outputs": [],
   "source": [
    "def solve(X, y):\n",
    "    m = len(X)\n",
    "    n = len(X[0])\n",
    "    b = [0 for i in range(n)]\n",
    "    alpha = 0.1\n",
    "    for it in range(1000):\n",
    "        dE = grad(X, y, b)\n",
    "        b = b - alpha * dE\n",
    "    print(energy(X, y, b))"
   ]
  },
  {
   "cell_type": "code",
   "execution_count": null,
   "metadata": {},
   "outputs": [],
   "source": [
    "def grad(X, y, b):\n",
    "    m = len(X)\n",
    "    n = len(b)\n",
    "    dE = [0 for i in range(n)]\n",
    "    for j in range(n):\n",
    "        for i in range(m):\n",
    "            dE[j] += 2 * X[i][j] * (X[i][j] * b[j] - y[i])\n",
    "    return dE"
   ]
  },
  {
   "cell_type": "code",
   "execution_count": null,
   "metadata": {},
   "outputs": [],
   "source": [
    "def energy(X, y, b):\n",
    "    E = 0.0\n",
    "    for i in range(n):\n",
    "        for j in range(m):\n",
    "            E += (X[i][j] * b[j] - y[i]) ** 2\n",
    "    return E"
   ]
  },
  {
   "cell_type": "code",
   "execution_count": null,
   "metadata": {},
   "outputs": [],
   "source": [
    "def readDatasets(file):\n",
    "    f = list(open(file, 'r'))\n",
    "    n = int(f[0])\n",
    "    m = int(f[1])\n",
    "    train_data = np.array([[int(j) for j in np.array(f[i + 2].split(' '))] for i in range(m)])\n",
    "    k = int(f[m + 2])\n",
    "    test_data = np.array([[int(j) for j in np.array(f[i + m + 3].split(' '))] for i in range(k)])\n",
    "    return n, train_data, test_data"
   ]
  },
  {
   "cell_type": "code",
   "execution_count": null,
   "metadata": {},
   "outputs": [],
   "source": [
    "n, train_data, test_data = read_array_from_file('LR/1.txt')"
   ]
  },
  {
   "cell_type": "code",
   "execution_count": null,
   "metadata": {},
   "outputs": [],
   "source": []
  }
 ],
 "metadata": {
  "kernelspec": {
   "display_name": "Python 3",
   "language": "python",
   "name": "python3"
  },
  "language_info": {
   "codemirror_mode": {
    "name": "ipython",
    "version": 3
   },
   "file_extension": ".py",
   "mimetype": "text/x-python",
   "name": "python",
   "nbconvert_exporter": "python",
   "pygments_lexer": "ipython3",
   "version": "3.7.3"
  }
 },
 "nbformat": 4,
 "nbformat_minor": 2
}
