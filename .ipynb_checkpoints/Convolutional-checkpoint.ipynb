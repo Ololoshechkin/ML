{
 "cells": [
  {
   "cell_type": "code",
   "execution_count": 2,
   "metadata": {},
   "outputs": [
    {
     "name": "stderr",
     "output_type": "stream",
     "text": [
      "Using TensorFlow backend.\n"
     ]
    }
   ],
   "source": [
    "import numpy as np\n",
    "import mnist\n",
    "from keras.datasets import fashion_mnist\n",
    "from pandas import *"
   ]
  },
  {
   "cell_type": "code",
   "execution_count": 3,
   "metadata": {},
   "outputs": [],
   "source": [
    "train_images = mnist.train_images()[:1000]\n",
    "train_labels = mnist.train_labels()[:1000]\n",
    "test_images = mnist.test_images()[:1000]\n",
    "test_labels = mnist.test_labels()[:1000]"
   ]
  },
  {
   "cell_type": "code",
   "execution_count": 4,
   "metadata": {},
   "outputs": [],
   "source": [
    "B1 = 0.9\n",
    "B2 = 0.999\n",
    "EPS = 1e-8\n",
    "\n",
    "class Adam:\n",
    "    def __init__(self, nu = 1e-3):\n",
    "        self.nu = nu\n",
    "        self.m, self.v, self.t = 0, 0, 0\n",
    "    \n",
    "    def initialState(self, theta0):\n",
    "        self.theta = theta0\n",
    "        \n",
    "    def optimize(self, g):\n",
    "        self.m = B1 * self.m + (1 - B1) * g\n",
    "        self.v = B2 * self.v + (1 - B2) * (g ** 2)\n",
    "        self.t += 1\n",
    "        mMean = self.m / (1 - B1 ** self.t)\n",
    "        vMean = self.v / (1 - B2 ** self.t)\n",
    "        self.theta = self.theta - self.nu * (mMean / (np.sqrt(vMean) - EPS))\n",
    "        return self.theta"
   ]
  },
  {
   "cell_type": "code",
   "execution_count": 5,
   "metadata": {},
   "outputs": [],
   "source": [
    "class Conv3x3:\n",
    "    def __init__(self, filterCount, optimizer):\n",
    "        self.filterCount = filterCount\n",
    "        self.filters = np.random.randn(filterCount, 3, 3) / 9.0\n",
    "        self.optimizer = optimizer\n",
    "        optimizer.initialState(self.filters)\n",
    "    \n",
    "    def applyTo(self, image):\n",
    "        h, w = image.shape\n",
    "        output = np.zeros((h - 2, w - 2, self.filterCount))\n",
    "\n",
    "        for i in range(h - 2):\n",
    "            for j in range(w - 2):\n",
    "                block = image[i : (i + 3), j : (j + 3)]\n",
    "                output[i, j] = np.sum(block * self.filters, axis=(1, 2))\n",
    "\n",
    "        self.lastImage = image\n",
    "        return output\n",
    "\n",
    "    def optimize(self, dL_dout):\n",
    "        h, w = self.lastImage.shape\n",
    "        \n",
    "        dL_dfilters = np.zeros(self.filters.shape)\n",
    "        for i in range(h - 2):\n",
    "            for j in range(w - 2):\n",
    "                block = self.lastImage[i : (i + 3), j : (j + 3)]\n",
    "                for f in range(self.filterCount):\n",
    "                    dL_dfilters[f] += dL_dout[i, j, f] * block\n",
    "\n",
    "        self.filters = self.optimizer.optimize(dL_dfilters)"
   ]
  },
  {
   "cell_type": "code",
   "execution_count": 6,
   "metadata": {},
   "outputs": [],
   "source": [
    "class MaxPool2:\n",
    "\n",
    "    def applyTo(self, image):\n",
    "        h, w, f = image.shape\n",
    "        output = np.zeros((h // 2, w // 2, f))\n",
    "\n",
    "        for i in range(h // 2):\n",
    "            for j in range(w // 2):\n",
    "                block = image[(2 * i) : (2 * i + 2), (2 * j) : (2 * j + 2)]\n",
    "                output[i, j] = np.amax(block, axis=(0, 1))\n",
    "        \n",
    "        self.lastImage = image\n",
    "        return output\n",
    "\n",
    "    \n",
    "    def optimize(self, dL_dout):\n",
    "        h, w, f = self.lastImage.shape\n",
    "        dL_din = np.zeros((h, w, f))\n",
    "\n",
    "        for i in range(h // 2):\n",
    "            for j in range(w // 2):\n",
    "                block = self.lastImage[(2 * i) : (2 * i + 2), (2 * j) : (2 * j + 2)]\n",
    "               \n",
    "                h, w, f = block.shape\n",
    "                mx = np.amax(block, axis=(0, 1))\n",
    "\n",
    "                for i2 in range(h):\n",
    "                    for j2 in range(w):\n",
    "                        for f2 in range(f):\n",
    "                            if block[i2, j2, f2] == mx[f2]:\n",
    "                                dL_din[2 * i + i2, 2 * j + j2, f2] = dL_dout[i, j, f2]\n",
    "        return dL_din"
   ]
  },
  {
   "cell_type": "code",
   "execution_count": 7,
   "metadata": {},
   "outputs": [],
   "source": [
    "class Softmax:\n",
    "    def __init__(self, length, nodes, initOptimizer):\n",
    "        self.weights = np.random.randn(length, nodes) / length\n",
    "        self.biases = np.zeros(nodes)\n",
    "\n",
    "        self.weightsOptimizer = initOptimizer()\n",
    "        self.weightsOptimizer.initialState(self.weights)\n",
    "\n",
    "        self.biasesOptimizer = initOptimizer()\n",
    "        self.biasesOptimizer.initialState(self.biases)\n",
    "        \n",
    "    def applyTo(self, image):\n",
    "        self.lastImageShape = image.shape\n",
    "        image = image.flatten()\n",
    "        length, nodes = self.weights.shape\n",
    "        totals = np.dot(image, self.weights) + self.biases\n",
    "        exp = np.exp(totals)\n",
    "        \n",
    "        self.lastImage = image\n",
    "        self.lastTotals = totals\n",
    "\n",
    "        return exp / np.sum(exp, axis=0)\n",
    "\n",
    "    def optimize(self, dL_dout):\n",
    "        for i, grad in enumerate(dL_dout):\n",
    "            if grad == 0:\n",
    "                continue\n",
    "\n",
    "            totalExp = np.exp(self.lastTotals)\n",
    "            s = np.sum(totalExp)\n",
    "\n",
    "            dout_dtotals = -totalExp[i] * totalExp / (s ** 2)\n",
    "            dout_dtotals[i] = totalExp[i] * (s - totalExp[i]) / (s ** 2)\n",
    "\n",
    "            dtotals_dweights = self.lastImage\n",
    "            dtotals_dbiases = 1\n",
    "            dtotals_dimages = self.weights\n",
    "\n",
    "            dL_dtotals = grad * dout_dtotals\n",
    "\n",
    "            dL_dweights = np.matmul(dtotals_dweights[np.newaxis].T, dL_dtotals[np.newaxis])\n",
    "            dL_dbiases = dL_dtotals * dtotals_dbiases\n",
    "            dL_dimages = np.matmul(dtotals_dimages, dL_dtotals)\n",
    "\n",
    "                        \n",
    "            self.weights = self.weightsOptimizer.optimize(dL_dweights)\n",
    "            self.biases = self.biasesOptimizer.optimize(dL_dbiases)\n",
    "\n",
    "            return dL_dimages.reshape(self.lastImageShape)"
   ]
  },
  {
   "cell_type": "code",
   "execution_count": 8,
   "metadata": {},
   "outputs": [],
   "source": [
    "H, W = train_images[0].shape\n",
    "D = 8\n",
    "LABELS = 10"
   ]
  },
  {
   "cell_type": "code",
   "execution_count": 9,
   "metadata": {},
   "outputs": [],
   "source": [
    "class Model:\n",
    "    def __init__(self, *layers):\n",
    "        self.layers = layers\n",
    "        \n",
    "        \n",
    "    def _processImage(self, image):\n",
    "        image = (image / 255) - 0.5\n",
    "        for layer in self.layers:\n",
    "            image = layer.applyTo(image)\n",
    "        return image\n",
    "        \n",
    "    def _optimize(self, output, c):\n",
    "        grad = np.zeros(10)\n",
    "        grad[c] = -1 / output[c]\n",
    "\n",
    "        for layer in reversed(self.layers):\n",
    "            grad = layer.optimize(grad)\n",
    "        \n",
    "    def fit(self, images, classes):\n",
    "        totalLoss, totalCorrect = 0, 0\n",
    "        \n",
    "        for i, (image, c) in enumerate(zip(images, classes)):\n",
    "            if i % 100 == 0:\n",
    "                print('Step: {0}, Loss: {1}, Accuracy: {2}%'.format(i, totalLoss / 100, totalCorrect))\n",
    "                totalLoss, totalCorrect = 0, 0\n",
    "                \n",
    "            output = self._processImage(image)\n",
    "            self._optimize(output, c)\n",
    "            \n",
    "            totalLoss -= np.log(output[c])\n",
    "            totalCorrect += (np.argmax(output) == c)\n",
    "    \n",
    "    def classify(self, image):\n",
    "        output = self._processImage(image)\n",
    "        return np.argmax(output)"
   ]
  },
  {
   "cell_type": "code",
   "execution_count": 10,
   "metadata": {},
   "outputs": [
    {
     "name": "stdout",
     "output_type": "stream",
     "text": [
      "Step: 0, Loss: 0, Accuracy: 0%\n",
      "Step: 100, Loss: 2.39218589882, Accuracy: 10%\n",
      "Step: 200, Loss: 2.31200638774, Accuracy: 10%\n",
      "Step: 300, Loss: 2.29477562104, Accuracy: 14%\n",
      "Step: 400, Loss: 2.28683049202, Accuracy: 18%\n",
      "Step: 500, Loss: 2.27870442079, Accuracy: 15%\n",
      "Step: 600, Loss: 2.27740176306, Accuracy: 17%\n",
      "Step: 700, Loss: 2.24990660018, Accuracy: 27%\n",
      "Step: 800, Loss: 2.2509874499, Accuracy: 29%\n",
      "Step: 900, Loss: 2.27177692467, Accuracy: 19%\n"
     ]
    }
   ],
   "source": [
    "conv = Conv3x3(D, Adam())                      # H x W x 1 --> H-2 x W-2 x D\n",
    "pool = MaxPool2()                              # H-2 x W-2 x D --> (H-2)/2 x (W-2)/2 x D\n",
    "softmax = Softmax(((H-2) // 2) * ((W-2) // 2) * D, LABELS, Adam) # (H-2)/W x (W-2)/2 x D --> (H-2)/2*(W-2)/w*D\n",
    "\n",
    "m = Model(conv, pool, softmax)\n",
    "permutation = np.random.permutation(len(train_images))\n",
    "m.fit(train_images[permutation], train_labels[permutation])"
   ]
  },
  {
   "cell_type": "code",
   "execution_count": 11,
   "metadata": {},
   "outputs": [
    {
     "name": "stdout",
     "output_type": "stream",
     "text": [
      "Accuracy: 20%\n"
     ]
    }
   ],
   "source": [
    "prediction = [m.classify(image) for image in test_images]\n",
    "\n",
    "\n",
    "testCount = len(test_images)\n",
    "correct = sum([prediction[i] == test_labels[i] for i in range(len(prediction))])\n",
    "print('Accuracy: {0}%'.format(correct * 100 / testCount))"
   ]
  },
  {
   "cell_type": "code",
   "execution_count": 12,
   "metadata": {},
   "outputs": [
    {
     "name": "stdout",
     "output_type": "stream",
     "text": [
      "   0   1  2  3   4   5   6   7  8   9\n",
      "0  0   4  0  0   2   5  70   4  0   0\n",
      "1  0  50  0  0   0   4  66   1  2   3\n",
      "2  0  13  0  0   1   3  95   2  2   0\n",
      "3  0  10  0  0   3   8  80   3  0   3\n",
      "4  0  13  0  0  16   3  70   8  0   0\n",
      "5  0  18  0  0   1  12  51   3  1   1\n",
      "6  0   5  0  0   1   1  80   0  0   0\n",
      "7  0   4  0  0   2   1  67  19  2   4\n",
      "8  0  16  0  0   3   8  51   2  5   4\n",
      "9  0   6  0  0   1   0  61   5  0  21\n"
     ]
    }
   ],
   "source": [
    "cm = [[0 for j in range(10)] for i in range(10)]\n",
    "for p, l in zip(prediction, test_labels):\n",
    "    cm[l][p] += 1\n",
    "\n",
    "print(DataFrame(cm))"
   ]
  },
  {
   "cell_type": "code",
   "execution_count": 13,
   "metadata": {},
   "outputs": [],
   "source": [
    "(x_train_fmnist, y_train_fmnist), (x_test_fmnist, y_test_fmnist) = fashion_mnist.load_data()\n",
    "\n",
    "x_train_fmnist = x_train_fmnist[:1000]\n",
    "y_train_fmnist = y_train_fmnist[:1000]\n",
    "x_test_fmnist = x_train_fmnist[:1000]\n",
    "y_test_fmnist = y_train_fmnist[:1000]"
   ]
  },
  {
   "cell_type": "code",
   "execution_count": 14,
   "metadata": {},
   "outputs": [
    {
     "name": "stdout",
     "output_type": "stream",
     "text": [
      "Step: 0, Loss: 0, Accuracy: 0%\n",
      "Step: 100, Loss: 2.31526482629, Accuracy: 11%\n",
      "Step: 200, Loss: 2.28081805383, Accuracy: 11%\n",
      "Step: 300, Loss: 2.21332384969, Accuracy: 23%\n",
      "Step: 400, Loss: 2.20124129264, Accuracy: 23%\n",
      "Step: 500, Loss: 2.11493267216, Accuracy: 26%\n",
      "Step: 600, Loss: 2.15959366146, Accuracy: 25%\n",
      "Step: 700, Loss: 2.20439999548, Accuracy: 21%\n",
      "Step: 800, Loss: 2.16469881401, Accuracy: 26%\n",
      "Step: 900, Loss: 2.07221354315, Accuracy: 26%\n"
     ]
    }
   ],
   "source": [
    "m = Model(conv, pool, softmax)\n",
    "permutation = np.random.permutation(len(x_train_fmnist))\n",
    "m.fit(x_train_fmnist[permutation], y_train_fmnist[permutation])"
   ]
  },
  {
   "cell_type": "code",
   "execution_count": 15,
   "metadata": {},
   "outputs": [
    {
     "name": "stdout",
     "output_type": "stream",
     "text": [
      "Accuracy: 33%\n"
     ]
    }
   ],
   "source": [
    "prediction = [m.classify(image) for image in x_test_fmnist]\n",
    "\n",
    "\n",
    "testCount = len(test_images)\n",
    "correct = sum([prediction[i] == y_test_fmnist[i] for i in range(len(prediction))])\n",
    "print('Accuracy: {0}%'.format(correct * 100 / testCount))"
   ]
  },
  {
   "cell_type": "code",
   "execution_count": 16,
   "metadata": {},
   "outputs": [
    {
     "name": "stdout",
     "output_type": "stream",
     "text": [
      "   0   1   2   3   4  5   6   7   8   9\n",
      "0  8  16   1   5   1  0  22  10  43   1\n",
      "1  0  55   1   0   0  0   3  14  31   0\n",
      "2  0   6  19   1   5  0   8  16  31   0\n",
      "3  0   9   0  19   1  0   4  17  42   0\n",
      "4  0   7   4   0  18  0  16   9  41   0\n",
      "5  0   3   0   0   0  0   0  51  43   3\n",
      "6  1  13   2   3   5  0  21  12  42   1\n",
      "7  0   4   0   0   0  0   0  88  23   0\n",
      "8  0   2   0   0   1  0   1  12  86   0\n",
      "9  0   3   0   0   0  0   0  24  51  21\n"
     ]
    }
   ],
   "source": [
    "cm = [[0 for j in range(10)] for i in range(10)]\n",
    "for p, l in zip(prediction, y_test_fmnist):\n",
    "    cm[l][p] += 1\n",
    "\n",
    "print(DataFrame(cm))"
   ]
  },
  {
   "cell_type": "code",
   "execution_count": null,
   "metadata": {},
   "outputs": [],
   "source": []
  }
 ],
 "metadata": {
  "kernelspec": {
   "display_name": "Python 2",
   "language": "python",
   "name": "python2"
  },
  "language_info": {
   "codemirror_mode": {
    "name": "ipython",
    "version": 2
   },
   "file_extension": ".py",
   "mimetype": "text/x-python",
   "name": "python",
   "nbconvert_exporter": "python",
   "pygments_lexer": "ipython2",
   "version": "2.7.15"
  }
 },
 "nbformat": 4,
 "nbformat_minor": 2
}
