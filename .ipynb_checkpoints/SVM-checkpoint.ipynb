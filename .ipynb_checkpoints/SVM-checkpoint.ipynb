{
 "cells": [
  {
   "cell_type": "code",
   "execution_count": 59,
   "metadata": {},
   "outputs": [],
   "source": [
    "import pandas as pd\n",
    "import numpy as np\n",
    "from sklearn import preprocessing\n",
    "import operator\n",
    "import math\n",
    "from scipy.spatial import distance\n",
    "from matplotlib import pyplot\n",
    "from numpy import linalg as la"
   ]
  },
  {
   "cell_type": "code",
   "execution_count": 81,
   "metadata": {},
   "outputs": [],
   "source": [
    "def grad_i(l, i, x, y, kernel):\n",
    "    n = len(x)\n",
    "    return 1 + y[i] * sum([l[j] * y[j] * kernel(x[i], x[j]) for j in range(n)])\n",
    "\n",
    "def grad(l, x, y, kernel):\n",
    "    n = len(x)\n",
    "    return [grad_i(l, i, x, y, kernel) for i in range(n)]\n",
    "\n",
    "def e(k, n):\n",
    "    return [1 if i == k else 0 for i in range(n)]\n",
    "\n",
    "def proj(b, a):\n",
    "    return ((np.dot(a, b) / np.dot(b, b)) * np.array(b)).tolist()\n",
    "\n",
    "def grammShmidt(y, vectors):\n",
    "    s = np.zeros(n)\n",
    "    for i in range(len(vectors)):\n",
    "        s += proj(vectors[i], y)\n",
    "    return (np.array(y) - s).tolist()\n",
    "\n",
    "def learn(objects, kernel, C, alpha, eps):\n",
    "    n = len(objects)\n",
    "    x = [obj['vector'] for obj in objects]\n",
    "    y = [obj['class'] for obj in objects]\n",
    "    l = [C / 2.0 for i in range(n)]\n",
    "    dl = grad(l, x, y, kernel)\n",
    "    while la.norm(dl) > eps:\n",
    "        dl = grad(l, x, y, kernel)\n",
    "        l1 = [l[i] + alpha * dl[i] for i in range(n)]\n",
    "        good = []\n",
    "        bad = []\n",
    "        for i in range(n):\n",
    "            if (l[i] <= 0.0 and dl[i] < 0) or (l[i] >= C and dl[i] > 0):\n",
    "                bad.append(e(i, n))\n",
    "            else:\n",
    "                good.append(e(i, n))\n",
    "        if len(bad) != 0:\n",
    "            good.append(grammShmidt(y, good))\n",
    "            dl = grammShmidt(dl, good,)\n",
    "            l = [l[i] + alpha * dl[i] for i in range(n)]\n",
    "        else:\n",
    "            l = l1\n",
    "    w = np.zeros(n)\n",
    "    si = 0\n",
    "    for i in range(n):\n",
    "        w += (l[i] * y[i]) * np.array(x[i])\n",
    "        if l[i] > 0 and l[i] < C:\n",
    "            si = i\n",
    "    b = w * np.array(x[i]) - y[i]\n",
    "    return lambda newX: np.sign(sum([l[i] * y[i] * kernel(x[i], newX)] - b))"
   ]
  },
  {
   "cell_type": "code",
   "execution_count": 82,
   "metadata": {},
   "outputs": [],
   "source": [
    "def readNormalizedData(file):\n",
    "    df = pd.read_csv(file, sep=\",\")\n",
    "    classes = [1 if c == 'P' else -1 for c in df[\"class\"]]\n",
    "    features = preprocessing.normalize(df.drop(columns=\"class\").to_numpy())\n",
    "    objects = []\n",
    "    for i in range(len(classes)):\n",
    "        objects.append({'class' : classes[i], 'vector': features[i]})\n",
    "    return objects"
   ]
  },
  {
   "cell_type": "code",
   "execution_count": 83,
   "metadata": {},
   "outputs": [],
   "source": [
    "def splitData(objects, l):    \n",
    "    for obj in objects:\n",
    "        if obj['class'] == 1:\n",
    "            pyplot.plot([obj['vector'][0]], [obj['vector'][1]], 'ro', color='red')\n",
    "        else:\n",
    "            pyplot.plot([obj['vector'][0]], [obj['vector'][1]], 'ro', color='blue')\n",
    "    pyplot.show()\n",
    "    \n",
    "    train = []\n",
    "    test = []\n",
    "    for i in range(len(objects)):\n",
    "        if i % l != l - 1:\n",
    "            train.append(objects[i])\n",
    "        else:\n",
    "            test.append(objects[i])\n",
    "    return train, test, n  "
   ]
  },
  {
   "cell_type": "code",
   "execution_count": 84,
   "metadata": {},
   "outputs": [],
   "source": [
    "def getData(file):\n",
    "    return splitData(readNormalizedData(file), 5)"
   ]
  },
  {
   "cell_type": "code",
   "execution_count": 85,
   "metadata": {
    "scrolled": true
   },
   "outputs": [
    {
     "data": {
      "image/png": "[encoded data removed]",
      "text/plain": [
       "<Figure size 432x288 with 1 Axes>"
      ]
     },
     "metadata": {
      "needs_background": "light"
     },
     "output_type": "display_data"
    },
    {
     "name": "stdout",
     "output_type": "stream",
     "text": [
      "train size: 95 \n",
      "test size: 23 \n",
      "classes: 2 \n",
      "features: 2\n"
     ]
    }
   ],
   "source": [
    "train, test, n = getData('SVM/chips.csv')\n",
    "print(\"train size:\", len(train), \"\\ntest size:\", len(test), \"\\nclasses:\", n,\"\\nfeatures:\",  len(train[0]['vector']))"
   ]
  },
  {
   "cell_type": "code",
   "execution_count": 86,
   "metadata": {},
   "outputs": [],
   "source": [
    "def kernrl(x, y):\n",
    "    d = np.array(x) - np.array(y)\n",
    "    return math.exp(-np.dot(d, d) / (2 * 0.25 ** 2))"
   ]
  },
  {
   "cell_type": "code",
   "execution_count": 87,
   "metadata": {},
   "outputs": [
    {
     "ename": "ValueError",
     "evalue": "operands could not be broadcast together with shapes (2,) (95,) (2,) ",
     "output_type": "error",
     "traceback": [
      "\u001b[0;31m---------------------------------------------------------------------------\u001b[0m",
      "\u001b[0;31mValueError\u001b[0m                                Traceback (most recent call last)",
      "\u001b[0;32m<ipython-input-87-fcf5c5166285>\u001b[0m in \u001b[0;36m<module>\u001b[0;34m\u001b[0m\n\u001b[0;32m----> 1\u001b[0;31m \u001b[0mclassifier\u001b[0m \u001b[0;34m=\u001b[0m \u001b[0mlearn\u001b[0m\u001b[0;34m(\u001b[0m\u001b[0mtrain\u001b[0m\u001b[0;34m,\u001b[0m \u001b[0mkernrl\u001b[0m\u001b[0;34m,\u001b[0m \u001b[0;36m1.0\u001b[0m\u001b[0;34m,\u001b[0m \u001b[0;36m1e-2\u001b[0m\u001b[0;34m,\u001b[0m \u001b[0;36m0.01\u001b[0m\u001b[0;34m)\u001b[0m\u001b[0;34m\u001b[0m\u001b[0;34m\u001b[0m\u001b[0m\n\u001b[0m",
      "\u001b[0;32m<ipython-input-81-9f0f0937b2b1>\u001b[0m in \u001b[0;36mlearn\u001b[0;34m(objects, kernel, C, alpha, eps)\u001b[0m\n\u001b[1;32m     36\u001b[0m                 \u001b[0mgood\u001b[0m\u001b[0;34m.\u001b[0m\u001b[0mappend\u001b[0m\u001b[0;34m(\u001b[0m\u001b[0me\u001b[0m\u001b[0;34m(\u001b[0m\u001b[0mi\u001b[0m\u001b[0;34m,\u001b[0m \u001b[0mn\u001b[0m\u001b[0;34m)\u001b[0m\u001b[0;34m)\u001b[0m\u001b[0;34m\u001b[0m\u001b[0;34m\u001b[0m\u001b[0m\n\u001b[1;32m     37\u001b[0m         \u001b[0;32mif\u001b[0m \u001b[0mlen\u001b[0m\u001b[0;34m(\u001b[0m\u001b[0mbad\u001b[0m\u001b[0;34m)\u001b[0m \u001b[0;34m!=\u001b[0m \u001b[0;36m0\u001b[0m\u001b[0;34m:\u001b[0m\u001b[0;34m\u001b[0m\u001b[0;34m\u001b[0m\u001b[0m\n\u001b[0;32m---> 38\u001b[0;31m             \u001b[0mgood\u001b[0m\u001b[0;34m.\u001b[0m\u001b[0mappend\u001b[0m\u001b[0;34m(\u001b[0m\u001b[0mgrammShmidt\u001b[0m\u001b[0;34m(\u001b[0m\u001b[0my\u001b[0m\u001b[0;34m,\u001b[0m \u001b[0mgood\u001b[0m\u001b[0;34m)\u001b[0m\u001b[0;34m)\u001b[0m\u001b[0;34m\u001b[0m\u001b[0;34m\u001b[0m\u001b[0m\n\u001b[0m\u001b[1;32m     39\u001b[0m             \u001b[0mdl\u001b[0m \u001b[0;34m=\u001b[0m \u001b[0mgrammShmidt\u001b[0m\u001b[0;34m(\u001b[0m\u001b[0mdl\u001b[0m\u001b[0;34m,\u001b[0m \u001b[0mgood\u001b[0m\u001b[0;34m,\u001b[0m\u001b[0;34m)\u001b[0m\u001b[0;34m\u001b[0m\u001b[0;34m\u001b[0m\u001b[0m\n\u001b[1;32m     40\u001b[0m             \u001b[0ml\u001b[0m \u001b[0;34m=\u001b[0m \u001b[0;34m[\u001b[0m\u001b[0ml\u001b[0m\u001b[0;34m[\u001b[0m\u001b[0mi\u001b[0m\u001b[0;34m]\u001b[0m \u001b[0;34m+\u001b[0m \u001b[0malpha\u001b[0m \u001b[0;34m*\u001b[0m \u001b[0mdl\u001b[0m\u001b[0;34m[\u001b[0m\u001b[0mi\u001b[0m\u001b[0;34m]\u001b[0m \u001b[0;32mfor\u001b[0m \u001b[0mi\u001b[0m \u001b[0;32min\u001b[0m \u001b[0mrange\u001b[0m\u001b[0;34m(\u001b[0m\u001b[0mn\u001b[0m\u001b[0;34m)\u001b[0m\u001b[0;34m]\u001b[0m\u001b[0;34m\u001b[0m\u001b[0;34m\u001b[0m\u001b[0m\n",
      "\u001b[0;32m<ipython-input-81-9f0f0937b2b1>\u001b[0m in \u001b[0;36mgrammShmidt\u001b[0;34m(y, vectors)\u001b[0m\n\u001b[1;32m     16\u001b[0m     \u001b[0ms\u001b[0m \u001b[0;34m=\u001b[0m \u001b[0mnp\u001b[0m\u001b[0;34m.\u001b[0m\u001b[0mzeros\u001b[0m\u001b[0;34m(\u001b[0m\u001b[0mn\u001b[0m\u001b[0;34m)\u001b[0m\u001b[0;34m\u001b[0m\u001b[0;34m\u001b[0m\u001b[0m\n\u001b[1;32m     17\u001b[0m     \u001b[0;32mfor\u001b[0m \u001b[0mi\u001b[0m \u001b[0;32min\u001b[0m \u001b[0mrange\u001b[0m\u001b[0;34m(\u001b[0m\u001b[0mlen\u001b[0m\u001b[0;34m(\u001b[0m\u001b[0mvectors\u001b[0m\u001b[0;34m)\u001b[0m\u001b[0;34m)\u001b[0m\u001b[0;34m:\u001b[0m\u001b[0;34m\u001b[0m\u001b[0;34m\u001b[0m\u001b[0m\n\u001b[0;32m---> 18\u001b[0;31m         \u001b[0ms\u001b[0m \u001b[0;34m+=\u001b[0m \u001b[0mproj\u001b[0m\u001b[0;34m(\u001b[0m\u001b[0mvectors\u001b[0m\u001b[0;34m[\u001b[0m\u001b[0mi\u001b[0m\u001b[0;34m]\u001b[0m\u001b[0;34m,\u001b[0m \u001b[0my\u001b[0m\u001b[0;34m)\u001b[0m\u001b[0;34m\u001b[0m\u001b[0;34m\u001b[0m\u001b[0m\n\u001b[0m\u001b[1;32m     19\u001b[0m     \u001b[0;32mreturn\u001b[0m \u001b[0;34m(\u001b[0m\u001b[0mnp\u001b[0m\u001b[0;34m.\u001b[0m\u001b[0marray\u001b[0m\u001b[0;34m(\u001b[0m\u001b[0my\u001b[0m\u001b[0;34m)\u001b[0m \u001b[0;34m-\u001b[0m \u001b[0ms\u001b[0m\u001b[0;34m)\u001b[0m\u001b[0;34m.\u001b[0m\u001b[0mtolist\u001b[0m\u001b[0;34m(\u001b[0m\u001b[0;34m)\u001b[0m\u001b[0;34m\u001b[0m\u001b[0;34m\u001b[0m\u001b[0m\n\u001b[1;32m     20\u001b[0m \u001b[0;34m\u001b[0m\u001b[0m\n",
      "\u001b[0;31mValueError\u001b[0m: operands could not be broadcast together with shapes (2,) (95,) (2,) "
     ]
    }
   ],
   "source": [
    "classifier = learn(train, kernrl, 1.0, 1e-2, 0.01)"
   ]
  },
  {
   "cell_type": "code",
   "execution_count": null,
   "metadata": {},
   "outputs": [],
   "source": []
  },
  {
   "cell_type": "code",
   "execution_count": null,
   "metadata": {},
   "outputs": [],
   "source": []
  }
 ],
 "metadata": {
  "kernelspec": {
   "display_name": "Python 3",
   "language": "python",
   "name": "python3"
  },
  "language_info": {
   "codemirror_mode": {
    "name": "ipython",
    "version": 3
   },
   "file_extension": ".py",
   "mimetype": "text/x-python",
   "name": "python",
   "nbconvert_exporter": "python",
   "pygments_lexer": "ipython3",
   "version": "3.5.2"
  }
 },
 "nbformat": 4,
 "nbformat_minor": 2
}
